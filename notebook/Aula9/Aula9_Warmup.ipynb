{
 "cells": [
  {
   "cell_type": "markdown",
   "metadata": {},
   "source": [
    "## Aula 9 - Webscrapy"
   ]
  },
  {
   "cell_type": "markdown",
   "metadata": {},
   "source": [
    "#### W9.1 Coletar dados das pessoas associadas a organização Python no github na URL https://github.com/orgs/python/people"
   ]
  },
  {
   "cell_type": "markdown",
   "metadata": {
    "scrolled": false
   },
   "source": [
    "#### Para cada pessoa, colete:\n",
    "* Nome;\n",
    "* Nome de usuário; e\n",
    "* URL.\n",
    "\n",
    "#### Apresente o resultado numa lista de dicionários. Por exemplo:\n",
    "```python\n",
    "[{\"name\": \"Yury Selivanov\", \"username\":\"1st1\", \"url\":\"https://github.com/1st1\"},\n",
    "{\"name\": \"Alexander Belopolsky\", \"username\":\"abalkin\", \"url\":\"https://github.com/abalkin\"}]\n",
    "```"
   ]
  },
  {
   "cell_type": "markdown",
   "metadata": {},
   "source": [
    "#### Colete dados de todos os usuários da 1a página de resultados. Faça no ambiente do seu PC numa IDE. "
   ]
  },
  {
   "cell_type": "markdown",
   "metadata": {},
   "source": [
    "### 9.2 Desenvolva um script de webscrapy para coletar os dados de uma busca no google. \n",
    "#### Busque por \".gov.br\" inurl:play.google.com\n",
    "#### Para cada pessoa, colete:\n",
    "* Nome do aplicativo;\n",
    "* Quantidade de votos;\n",
    "* Rating; e\n",
    "* URL do aplicativo.\n",
    "\n",
    "#### Gere uma lista de dicionários como resultado.\n",
    "```python\n",
    "[{\"app\": \"Conecte SUS\", \"votes\":192097, \"url\":\"https://play.google.com/store/apps/details?id=br.gov.datasus.cnsdigital&hl=pt_BR&gl=US\", \"rating\": 3},\n",
    "{\"name\": \"Meu INSS\", \"votes\":52323, \"url\":\"https://github.com/abalkin\", \"rating\": 3.4}]\n",
    "```\n",
    "#### Colete os dados apenas da 1a página de resultados."
   ]
  },
  {
   "cell_type": "code",
   "execution_count": null,
   "metadata": {},
   "outputs": [],
   "source": []
  }
 ],
 "metadata": {
  "kernelspec": {
   "display_name": "Python 3",
   "language": "python",
   "name": "python3"
  },
  "language_info": {
   "codemirror_mode": {
    "name": "ipython",
    "version": 3
   },
   "file_extension": ".py",
   "mimetype": "text/x-python",
   "name": "python",
   "nbconvert_exporter": "python",
   "pygments_lexer": "ipython3",
   "version": "3.8.3"
  }
 },
 "nbformat": 4,
 "nbformat_minor": 4
}
