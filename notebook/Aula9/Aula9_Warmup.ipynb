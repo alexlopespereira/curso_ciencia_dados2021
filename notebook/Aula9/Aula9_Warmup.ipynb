{
 "cells": [
  {
   "cell_type": "markdown",
   "metadata": {},
   "source": [
    "## Aula 9 - Webscrapy"
   ]
  },
  {
   "cell_type": "markdown",
   "metadata": {},
   "source": [
    "#### W9.1 Coletar dados das pessoas associadas a organização Python no github na URL https://github.com/orgs/python/people"
   ]
  },
  {
   "cell_type": "markdown",
   "metadata": {
    "scrolled": false
   },
   "source": [
    "#### Para cada pessoa, colete:\n",
    "* Nome;\n",
    "* Nome de usuário; e\n",
    "* URL.\n",
    "\n",
    "#### Apresente o resultado numa lista de dicionários. Por exemplo:\n",
    "```python\n",
    "[{\"name\": \"Yury Selivanov\", \"username\":\"1st1\", \"url\":\"https://github.com/1st1\"},\n",
    "{\"name\": \"Alexander Belopolsky\", \"username\":\"abalkin\", \"url\":\"https://github.com/abalkin\"}]\n",
    "```"
   ]
  },
  {
   "cell_type": "markdown",
   "metadata": {},
   "source": [
    "#### Faça no ambiente do seu PC numa IDE. Depois "
   ]
  }
 ],
 "metadata": {
  "kernelspec": {
   "display_name": "Python 3",
   "language": "python",
   "name": "python3"
  },
  "language_info": {
   "codemirror_mode": {
    "name": "ipython",
    "version": 3
   },
   "file_extension": ".py",
   "mimetype": "text/x-python",
   "name": "python",
   "nbconvert_exporter": "python",
   "pygments_lexer": "ipython3",
   "version": "3.8.3"
  }
 },
 "nbformat": 4,
 "nbformat_minor": 4
}
