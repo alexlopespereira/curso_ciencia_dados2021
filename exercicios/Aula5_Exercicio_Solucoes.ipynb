{
 "cells": [
  {
   "cell_type": "markdown",
   "metadata": {},
   "source": [
    "# Aula 5 - Exercícios - Estatística Descritiva e Gráficos"
   ]
  },
  {
   "cell_type": "code",
   "execution_count": 2,
   "metadata": {},
   "outputs": [],
   "source": [
    "# Importe a biblioteca pandas\n",
    "import pandas as pd\n",
    "import numpy as np\n",
    "import seaborn as sns"
   ]
  },
  {
   "cell_type": "markdown",
   "metadata": {},
   "source": [
    "### 5.1 Escreva uma função para calcular os percentis [0.25, 0.50, 0.75, 0.9] do dataset do índice de gini dos municípios brasileiros para todos os anos presents no dataset.\n",
    "\n",
    "#### Apenas por curiosidade, plote o gráfico destes percentis num gráfico de linhas\n"
   ]
  },
  {
   "cell_type": "code",
   "execution_count": 1,
   "metadata": {
    "nbgrader": {
     "grade": false,
     "grade_id": "cell-553qe5248eb14bc30",
     "locked": false,
     "schema_version": 3,
     "solution": true,
     "task": false
    }
   },
   "outputs": [],
   "source": [
    "# Dica 1: Descubra qual a string representa valores NA neste dataset.\n",
    "# Dica 2: Use o argumento na_values para especificar a string que representa valores NA.\n",
    "# Dica 3: Use o argumento decimal=',' para definir a vírgula como separador de decimal.\n",
    "# Dica 4: Use a função apply e uma função lambda para desmembrar a coluna município no\n",
    "#         respectivo nome e código do município.\n",
    "# Dica 5: Atente para o separador de colunas do dataset.\n",
    "# Dica 6: O encoding do dataset do gini é 'utf8'.\n",
    "# Dica 7: Atente para quantas linhas você deve ignorar antes no inicio e no final do arquivo.\n",
    "# Dica 8: Use a função quantile\n",
    "def plot_gini(path_gini):\n",
    "    \"\"\"retorne o valor de: n+nn+nnn\n",
    "    \"\"\"\n",
    "    ### BEGIN SOLUTION\n",
    "    df_gini = pd.read_csv(path_gini, sep=';', skiprows=2, skipfooter=2, encoding='utf8', \n",
    "                          engine='python', na_values='...', decimal=',')\n",
    "    df_gini.loc[:, 'cod_ibge6'] = df_gini.loc[:,'Município'].apply(lambda x: x.split(' ')[0])\n",
    "    df_gini.loc[:, 'Município'] = df_gini.loc[:,'Município'].apply(lambda x: ' '.join(x.split(' ')[1:]))\n",
    "\n",
    "    return df_gini.quantile([.25, .5, .75, .9])\n",
    "    \n",
    "    ### END SOLUTION\n"
   ]
  },
  {
   "cell_type": "code",
   "execution_count": 2,
   "metadata": {
    "scrolled": false
   },
   "outputs": [],
   "source": [
    "## Faça seus testes aqui\n",
    "# Considere o seguinte dataframe do PIB dos municípios\n",
    "path_gini = 'https://github.com/alexlopespereira/curso_ciencia_dados2021/raw/master/data/originais/gini/ginibr.csv'\n",
    "\n",
    "\n"
   ]
  },
  {
   "cell_type": "code",
   "execution_count": 5,
   "metadata": {
    "nbgrader": {
     "grade": true,
     "grade_id": "cell-0e2bh6cefe06bdc60",
     "locked": true,
     "points": 1,
     "schema_version": 3,
     "solution": false,
     "task": false
    }
   },
   "outputs": [],
   "source": [
    "# Validação\n",
    "test_data = {'1991': {0.25: 0.49, 0.5: 0.53, 0.75: 0.58, 0.9: 0.62},\n",
    " '2000': {0.25: 0.51, 0.5: 0.55, 0.75: 0.6, 0.9: 0.64},\n",
    " '2010': {0.25: 0.46, 0.5: 0.5, 0.75: 0.55, 0.9: 0.58}}\n",
    "path_gini = 'https://github.com/alexlopespereira/curso_ciencia_dados2020/raw/master/data/originais/gini/ginibr.csv'\n",
    "\n",
    "df = plot_gini(path_gini)\n",
    "assert df.apply(lambda x: round(x, 2)).to_dict() == test_data"
   ]
  },
  {
   "cell_type": "markdown",
   "metadata": {},
   "source": [
    "### 5.2 Escreva uma função para retornar um dataframe com os nomes das colunas, o total e a porcentagem de valores NA (de cada coluna) num dataframe passado como argumento para esta função.\n",
    "#### Arredonde (com o método round) o resultado para duas casas decimais (o assert vai testar com 2 casas decimais)."
   ]
  },
  {
   "cell_type": "code",
   "execution_count": 2,
   "metadata": {
    "nbgrader": {
     "grade": false,
     "grade_id": "cell-553e5248ebs14bc30",
     "locked": false,
     "schema_version": 3,
     "solution": true,
     "task": false
    }
   },
   "outputs": [],
   "source": [
    "# Dica 1: Use a função concat para concatenar duas séries. Especifique axis=1 para concatenar\n",
    "#       por colunas. Se quiser dar nome as colunas depois de concatenar, utilize o argumento\n",
    "#       keys=['Total','Porcentagem']\n",
    "# Dica 2: Uma das séries deve conter o total de valores NA, e a outra série a \n",
    "# porcentagem de valores NA. Depois disso concatena-as usando a função concat.\n",
    "\n",
    "def missing_percentage(df):\n",
    "    \"\"\"Retorna um dataframe com os nomes das colunas, o total e a porcentagem de valores\n",
    "       NA em cada coluna do dataframe passado como argumento.\n",
    "    \"\"\"\n",
    "    ### BEGIN SOLUTION\n",
    "    total = df.isnull().sum()\n",
    "    percent = round(df.isnull().sum()/len(df)*100,2)\n",
    "    return pd.concat([total, percent], axis=1, keys=['Total','Porcentagem'])\n",
    "    ### END SOLUTION\n"
   ]
  },
  {
   "cell_type": "code",
   "execution_count": 6,
   "metadata": {},
   "outputs": [],
   "source": [
    "## Faça seus testes aqui\n",
    "# path_titanic = 'https://github.com/alexlopespereira/curso_ciencia_dados2020/raw/master/data/originais/titanic/titanic.xls'\n",
    "path_titanic = '../../curso_ciencia_dados2020/data/originais/titanic/titanic.xls'\n"
   ]
  },
  {
   "cell_type": "code",
   "execution_count": 3,
   "metadata": {
    "nbgrader": {
     "grade": true,
     "grade_id": "cell-0e2bt6cefe06bdc60",
     "locked": true,
     "points": 1,
     "schema_version": 3,
     "solution": false,
     "task": false
    }
   },
   "outputs": [],
   "source": [
    "# Validação\n",
    "path_titanic = 'https://github.com/alexlopespereira/curso_ciencia_dados2020/raw/master/data/originais/titanic/titanic.xls'\n",
    "test_data = {'Total': {'body': 1188,  'cabin': 1014,  'boat': 823,  'home.dest': 564,\n",
    "                       'age': 263,  'embarked': 2,  'fare': 1,  'ticket': 0,  'parch': 0,  \n",
    "                       'sibsp': 0,  'sex': 0,  'name': 0,  'survived': 0,  'pclass': 0},\n",
    "             'Porcentagem': {'body': 90.76,  'cabin': 77.46,  'boat': 62.87,\n",
    "                            'home.dest': 43.09,  'age': 20.09,  'embarked': 0.15, \n",
    "                            'fare': 0.08,  'ticket': 0.0,  'parch': 0.0,  'sibsp': 0.0,\n",
    "                            'sex': 0.0,  'name': 0.0,  'survived': 0.0,  'pclass': 0.0}}\n",
    "\n",
    "df_titanic = pd.read_excel(path_titanic)\n",
    "assert missing_percentage(df_titanic).to_dict() == test_data"
   ]
  },
  {
   "cell_type": "markdown",
   "metadata": {},
   "source": [
    "### 5.3 Considerando o dataset do titanic, crie um gráfico igual ao modelo abaixo.\n",
    "#### Dica: use o gráfico distplot da biblioteca seaborn."
   ]
  },
  {
   "attachments": {
    "g1.png": {
     "image/png": "[encoded data removed]"
    }
   },
   "cell_type": "markdown",
   "metadata": {},
   "source": [
    "![g1.png](attachment:g1.png)"
   ]
  },
  {
   "cell_type": "code",
   "execution_count": 4,
   "metadata": {},
   "outputs": [
    {
     "data": {
      "text/plain": [
       "<matplotlib.axes._subplots.AxesSubplot at 0x1e7568d0130>"
      ]
     },
     "execution_count": 4,
     "metadata": {},
     "output_type": "execute_result"
    },
    {
     "data": {
      "image/png": "[encoded data removed]",
      "text/plain": [
       "<Figure size 432x288 with 1 Axes>"
      ]
     },
     "metadata": {
      "needs_background": "light"
     },
     "output_type": "display_data"
    }
   ],
   "source": [
    "## Faça seus testes aqui\n",
    "titanic = sns.load_dataset('titanic')\n",
    "sns.distplot(titanic['fare'],bins=30,kde=False,color='red')"
   ]
  },
  {
   "cell_type": "markdown",
   "metadata": {},
   "source": [
    "### 5.4 Considerando o dataset do titanic, crie um gráfico igual ao modelo abaixo.\n",
    "#### Dica: use o gráfico distplot da biblioteca seaborn."
   ]
  },
  {
   "attachments": {
    "g2.png": {
     "image/png": "[encoded data removed]"
    }
   },
   "cell_type": "markdown",
   "metadata": {},
   "source": [
    "![g2.png](attachment:g2.png)"
   ]
  },
  {
   "cell_type": "code",
   "execution_count": null,
   "metadata": {},
   "outputs": [],
   "source": [
    "## Faça seus testes aqui\n",
    "sns.boxplot(x='class',y='age',data=titanic,palette='rainbow' )"
   ]
  },
  {
   "cell_type": "code",
   "execution_count": null,
   "metadata": {},
   "outputs": [],
   "source": []
  }
 ],
 "metadata": {
  "celltoolbar": "Create Assignment",
  "kernelspec": {
   "display_name": "Python 3",
   "language": "python",
   "name": "python3"
  },
  "language_info": {
   "codemirror_mode": {
    "name": "ipython",
    "version": 3
   },
   "file_extension": ".py",
   "mimetype": "text/x-python",
   "name": "python",
   "nbconvert_exporter": "python",
   "pygments_lexer": "ipython3",
   "version": "3.8.3"
  },
  "name": "_merged"
 },
 "nbformat": 4,
 "nbformat_minor": 4
}
