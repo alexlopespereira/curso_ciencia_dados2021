{
 "cells": [
  {
   "attachments": {},
   "cell_type": "markdown",
   "metadata": {},
   "source": [
    "# Aula 8 - Agregação com Pandas, Ambiente de Desenvolvimento e Git"
   ]
  },
  {
   "cell_type": "code",
   "execution_count": 1,
   "metadata": {},
   "outputs": [],
   "source": [
    "# Importe a biblioteca pandas\n",
    "import pandas as pd\n",
    "import numpy as np"
   ]
  },
  {
   "cell_type": "markdown",
   "metadata": {},
   "source": [
    "### 8.1 Escreva uma função para ler os dados de PIB e população dos datasets disponibilizados e retornar um dataframe com a agregação por Estados e as métricas soma, média, desvio padrão e mediana do PIB de 2017 e da população de todos os Estados brasileiros."
   ]
  },
  {
   "cell_type": "code",
   "execution_count": 14,
   "metadata": {
    "nbgrader": {
     "grade": false,
     "grade_id": "cell-c705ab9d11473b9f9",
     "locked": false,
     "schema_version": 3,
     "solution": true,
     "task": false
    }
   },
   "outputs": [],
   "source": [
    "def aggregate_pib_pop(path_pop, path_pib):\n",
    "    \"\"\"retorne um dataframe com a agregação por Estados e as métricas soma, média, mediana\n",
    "       e o desvio padrão do PIB de 2017 e da população de todos os Estados brasileiros.\n",
    "    \"\"\"\n",
    "    ### BEGIN SOLUTION\n",
    "    df_pop = pd.read_excel(path_pop, sheet_name=\"Municipios\", dtype={'cod_munic': str, 'cod_uf': str})\n",
    "    # Concatena o codigo da UF com o codigo do municipio\n",
    "    df_pop['cod_ibge7'] = df_pop['cod_uf'] + df_pop['cod_munic']\n",
    "    df_pib = pd.read_excel(path_pib, skiprows=3, skipfooter=1, dtype={'Unnamed: 1': str})\n",
    "    df_pib.rename(columns={'Unnamed: 0': 'nivel', 'Unnamed: 1': 'cod_ibge7', \n",
    "                           'Unnamed: 2': 'municipio'}, inplace=True)\n",
    "    df_pib_pop = pd.merge(df_pop, df_pib, on='cod_ibge7')\n",
    "    return df_pib_pop.groupby('uf').agg({'pop2017' : ['sum', 'mean', 'median', 'std'], '2017' : ['sum', 'mean', 'median', 'std']})\n",
    "    ### END SOLUTION\n"
   ]
  },
  {
   "cell_type": "code",
   "execution_count": 15,
   "metadata": {},
   "outputs": [],
   "source": [
    "## Faça seus testes aqui\n",
    "path_pib = 'https://github.com/alexlopespereira/curso_ciencia_dados2021/raw/master/data/originais/pib/pib_municipios.xlsx'\n",
    "path_pop='https://github.com/alexlopespereira/curso_ciencia_dados2021/raw/master/data/originais/populacao/estimativa_dou_2017.xlsx'\n",
    "\n",
    "\n"
   ]
  },
  {
   "cell_type": "code",
   "execution_count": 16,
   "metadata": {
    "nbgrader": {
     "grade": true,
     "grade_id": "cell-9ffdsa88d58e9282a",
     "locked": true,
     "points": 1,
     "schema_version": 3,
     "solution": false,
     "task": false
    }
   },
   "outputs": [],
   "source": [
    "# Validação\n",
    "path_pib = 'https://github.com/alexlopespereira/curso_ciencia_dados2021/raw/master/data/originais/pib/pib_municipios.xlsx'\n",
    "path_pop='https://github.com/alexlopespereira/curso_ciencia_dados2021/raw/master/data/originais/populacao/estimativa_dou_2017.xlsx'\n",
    "\n",
    "test_data = {('pop2017', 'sum'): 829619.0,\n",
    " ('pop2017', 'mean'): 37710.0,\n",
    " ('pop2017', 'median'): 17903.5,\n",
    " ('pop2017', 'std'): 79036.0,\n",
    " ('2017', 'sum'): 14271061.0,\n",
    " ('2017', 'mean'): 648684.6,\n",
    " ('2017', 'median'): 229775.0,\n",
    " ('2017', 'std'): 1695166.9}\n",
    "results_ac = aggregate_pib_pop(path_pop, path_pib).loc['AC'].apply(lambda x: round(x,1))\n",
    "\n",
    "assert results_ac.to_dict() == test_data"
   ]
  },
  {
   "cell_type": "markdown",
   "metadata": {},
   "source": [
    "### 8.2 Escreva uma função para agregar o dataset do Titanic por classe (pclass) e sexo (sex) e calcular a soma da coluna survived (sobrevivente) e a média e mediana da coluna fare (preço do ticket).\n"
   ]
  },
  {
   "cell_type": "code",
   "execution_count": 11,
   "metadata": {
    "nbgrader": {
     "grade": false,
     "grade_id": "cell-553em5248eb14bc30",
     "locked": false,
     "schema_version": 3,
     "solution": true,
     "task": false
    }
   },
   "outputs": [],
   "source": [
    "# Dica: Faça a agregação usando um dicionário que mapeia a coluna e a(s) respectiva(s) métrica(s) de\n",
    "#       agregação solicitada(s) no enunciado.\n",
    "def agg_titanic(df_titanic):\n",
    "    \"\"\"retorne aagregação do dataframe df_titanic por pclass e sex e calcular a soma \n",
    "       da coluna survived e a média e mediana da coluna fare.\n",
    "    \"\"\"\n",
    "    ### BEGIN SOLUTION\n",
    "    return df_titanic.groupby(['pclass', 'sex']).agg({'survived': 'sum', 'fare': ['mean', 'median']})\n",
    "    ### END SOLUTION\n"
   ]
  },
  {
   "cell_type": "code",
   "execution_count": 12,
   "metadata": {},
   "outputs": [],
   "source": [
    "## Faça seus testes aqui\n",
    "path_titanic = 'https://github.com/alexlopespereira/curso_ciencia_dados2021/raw/master/data/originais/titanic/titanic.xls'\n",
    "\n"
   ]
  },
  {
   "cell_type": "code",
   "execution_count": 13,
   "metadata": {
    "nbgrader": {
     "grade": true,
     "grade_id": "cell-0se2b6cefe06bdc60",
     "locked": true,
     "points": 1,
     "schema_version": 3,
     "solution": false,
     "task": false
    }
   },
   "outputs": [],
   "source": [
    "# Validação\n",
    "path_titanic = 'https://github.com/alexlopespereira/curso_ciencia_dados2021/raw/master/data/originais/titanic/titanic.xls'\n",
    "test_data = {('survived', 'sum'): {(1, 'female'): 139,  (1, 'male'): 61,\n",
    "  (2, 'female'): 94,  (2, 'male'): 25,  (3, 'female'): 106,  (3, 'male'): 75},\n",
    "  ('fare', 'mean'): {(1, 'female'): 109.4,  (1, 'male'): 69.9,  (2, 'female'): 23.2,\n",
    "  (2, 'male'): 19.9,  (3, 'female'): 15.3,  (3, 'male'): 12.4}, \n",
    "  ('fare', 'median'): {(1, 'female'): 80.9,  (1, 'male'): 49.5,  \n",
    "  (2, 'female'): 23.0,  (2, 'male'): 13.0,  (3, 'female'): 10.5,  (3, 'male'): 7.9}}\n",
    "\n",
    "df_titanic = pd.read_excel(path_titanic)\n",
    "result_agg = agg_titanic(df_titanic).apply(lambda x: round(x, 1))\n",
    "\n",
    "assert result_agg.to_dict() == test_data"
   ]
  },
  {
   "cell_type": "markdown",
   "metadata": {},
   "source": [
    "### 8.3 Escreva uma função para realizar o agrupamento do dataset de morbidade por UF e por município aplicando a soma sobre as colunas Valor_total, Internações e Dias_permanência. Em seguida calcule, para todos os municípios nesta agregação, o custo médio diário das internações com a seguite fórmula: \n",
    "#### Dica: Faça a agregação usando um dicionário que mapeia a coluna e a respectiva métrica de agregação solicitada no enunciado.\n",
    "#### Use a seguinte fórmula para calculár o custo diário médio de internação:\n",
    "```python \n",
    "custo_medio_diario_intern = Valor_total/Dias_permanência\n",
    "```"
   ]
  },
  {
   "cell_type": "code",
   "execution_count": 19,
   "metadata": {
    "nbgrader": {
     "grade": false,
     "grade_id": "cell-5b4dc5640fc839be",
     "locked": false,
     "schema_version": 3,
     "solution": true,
     "task": false
    }
   },
   "outputs": [],
   "source": [
    "def custo_medio_internacao_agregado(df_morbidade_pop):\n",
    "    ### BEGIN SOLUTION\n",
    "    df_internacoes = df_morbidade_pop.groupby(['uf','municipio']).agg({'Valor_total': 'sum', 'Internações': 'sum', 'Dias_permanência': 'sum'})\n",
    "    df_internacoes['custo_medio_diario_intern'] = df_internacoes['Valor_total']/df_internacoes['Dias_permanência']\n",
    "    return df_internacoes\n",
    "    ### END SOLUTION"
   ]
  },
  {
   "cell_type": "code",
   "execution_count": 17,
   "metadata": {},
   "outputs": [],
   "source": [
    "# Faça seus testes aqui\n",
    "path_morbidade = 'https://github.com/alexlopespereira/curso_ciencia_dados2021/raw/master/data/originais/morbidade/consolidado/morbidade.csv'\n",
    "path_pop = 'https://github.com/alexlopespereira/curso_ciencia_dados2021/raw/master/data/originais/populacao/estimativa_dou_2017.xlsx'\n"
   ]
  },
  {
   "cell_type": "code",
   "execution_count": 27,
   "metadata": {
    "nbgrader": {
     "grade": true,
     "grade_id": "cell-eee2219340bc517c",
     "locked": true,
     "points": 1,
     "schema_version": 3,
     "solution": false,
     "task": false
    }
   },
   "outputs": [],
   "source": [
    "# Validação\n",
    "path_morbidade = 'https://github.com/alexlopespereira/curso_ciencia_dados2021/raw/master/data/originais/morbidade/consolidado/morbidade.csv'\n",
    "path_pop = 'https://github.com/alexlopespereira/curso_ciencia_dados2021/raw/master/data/originais/populacao/estimativa_dou_2017.xlsx'\n",
    "\n",
    "test_data = {'Valor_total': 1534117.3,\n",
    " 'Internações': 1094.0,\n",
    " 'Dias_permanência': 5291.0,\n",
    " 'custo_medio_diario_intern': 289.9}\n",
    "\n",
    "df_pop = pd.read_excel(path_pop, sheet_name=\"Municipios\", dtype={'cod_munic': str, 'cod_uf': str})\n",
    "df_pop['cod_ibge6'] = df_pop['cod_uf'] + df_pop['cod_munic'].apply(lambda x: x[:-1])\n",
    "df_morbidade = pd.read_csv(path_morbidade, sep=';', decimal=',', dtype={'cod_ibge6': str}, \n",
    "                           na_values=['-', '...'])\n",
    "df_pop_morbidade = pd.merge(df_pop, df_morbidade, on='cod_ibge6') \n",
    "\n",
    "data_abadia_go = custo_medio_internacao_agregado(df_pop_morbidade).loc['GO','Abadia de Goiás']\n",
    "data_abadia_go = data_abadia_go.apply(lambda x: round(x, 1))\n",
    "# data_abadia_go\n",
    "assert data_abadia_go.to_dict() == test_data"
   ]
  },
  {
   "cell_type": "markdown",
   "metadata": {},
   "source": [
    "### 8.4 Plote um gráfico boxplot da coluna Valor_total de 5 municípios do dataset de Morbidade do Datasus. Os municípios a serem plotados são aqueles que obtiveram o maior custo médio diário de internação em todo o brasil. \n",
    "#### Esta métrica de custo médio diário de internação foi calculada no exercício 8.3. Use um argumento aspect=2 para o gráfico não sobrepor os nomes das cidades.\n",
    "#### Dica 1: Antes de tentar plotar o gráfico, escreva algumas sentenças de código usando operações do pandas para encontrar quais são esses 5 municípios.\n",
    "#### Dica 2: Depois de encontrar o codigo IBGE desses 5 municípios, faça um filtro no dataframe dos dados de morbidade e plote o boxplot desses 5 municípios."
   ]
  },
  {
   "cell_type": "code",
   "execution_count": 29,
   "metadata": {
    "nbgrader": {
     "grade": false,
     "grade_id": "cell-919c16309d90227d",
     "locked": false,
     "schema_version": 3,
     "solution": true,
     "task": false
    }
   },
   "outputs": [
    {
     "data": {
      "text/plain": [
       "<seaborn.axisgrid.FacetGrid at 0x1a158bf64c0>"
      ]
     },
     "execution_count": 29,
     "metadata": {},
     "output_type": "execute_result"
    },
    {
     "data": {
      "image/png": "[encoded data removed]",
      "text/plain": [
       "<Figure size 720x360 with 1 Axes>"
      ]
     },
     "metadata": {
      "needs_background": "light"
     },
     "output_type": "display_data"
    }
   ],
   "source": [
    "import numpy as np\n",
    "import pandas as pd\n",
    "import seaborn as sns\n",
    "path_morbidade = 'https://github.com/alexlopespereira/curso_ciencia_dados2021/raw/master/data/originais/morbidade/consolidado/morbidade.csv'\n",
    "path_pop = 'https://github.com/alexlopespereira/curso_ciencia_dados2021/raw/master/data/originais/populacao/estimativa_dou_2017.xlsx'\n",
    "\n",
    "df_pop = pd.read_excel(path_pop, sheet_name=\"Municipios\", dtype={'cod_munic': str, 'cod_uf': str})\n",
    "# Concatena o codigo da UF com o codigo do municipio\n",
    "df_pop['cod_ibge6'] = df_pop['cod_uf'] + df_pop['cod_munic'].apply(lambda x: x[:-1])\n",
    "df_morbidade = pd.read_csv(path_morbidade, sep=';', decimal=',', dtype={'cod_ibge6': str}, \n",
    "                           na_values=['-', '...'])\n",
    "df_pop_morb =  pd.merge(df_pop, df_morbidade, on='cod_ibge6')\n",
    "grouped=df_pop_morb.groupby(['municipio', 'cod_ibge6'])\n",
    "df_final = grouped.agg({'Valor_total':'sum','Internações':'sum','Dias_permanência':'sum'})\n",
    "df_final['custo_medio_diario_intern'] = df_final['Valor_total']/df_final['Dias_permanência']\n",
    "df_final.sort_values(by=['custo_medio_diario_intern'],ascending=False, inplace=True)\n",
    "df_final = df_final.iloc[:5]\n",
    "selecao = df_final.reset_index(level='cod_ibge6')['cod_ibge6']\n",
    "df_selecao = df_pop_morb[df_pop_morb['cod_ibge6'].isin(selecao)]\n",
    "sns.catplot(x=\"Município\", y=\"Valor_total\", data=df_selecao, kind=\"box\", aspect=2)"
   ]
  },
  {
   "cell_type": "code",
   "execution_count": null,
   "metadata": {},
   "outputs": [],
   "source": []
  }
 ],
 "metadata": {
  "celltoolbar": "Create Assignment",
  "kernelspec": {
   "display_name": "Python 3",
   "language": "python",
   "name": "python3"
  },
  "language_info": {
   "codemirror_mode": {
    "name": "ipython",
    "version": 3
   },
   "file_extension": ".py",
   "mimetype": "text/x-python",
   "name": "python",
   "nbconvert_exporter": "python",
   "pygments_lexer": "ipython3",
   "version": "3.8.3"
  },
  "name": "_merged"
 },
 "nbformat": 4,
 "nbformat_minor": 4
}
