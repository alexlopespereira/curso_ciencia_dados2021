{
 "cells": [
  {
   "cell_type": "markdown",
   "metadata": {},
   "source": [
    "# Aula 6 - Exercícios - Gráficos"
   ]
  },
  {
   "cell_type": "code",
   "execution_count": null,
   "metadata": {},
   "outputs": [],
   "source": [
    "# Importe a biblioteca pandas e seaborn\n",
    "import pandas as pd\n",
    "import seaborn as sns\n",
    "sns.set() # Ajusta valor padrão de tema, escala e paleta de cor"
   ]
  },
  {
   "cell_type": "markdown",
   "metadata": {},
   "source": [
    "### 6.1 Plote um boxplot do índice de gini dos municípios brasileiros.\n",
    "#### Dica 1: Veja o resultado esperado a seguir:"
   ]
  },
  {
   "attachments": {
    "5.1_boxplot_gini.png": {
     "image/png": "[encoded data removed]"
    }
   },
   "cell_type": "markdown",
   "metadata": {},
   "source": [
    "![5.1_boxplot_gini.png](attachment:5.1_boxplot_gini.png)"
   ]
  },
  {
   "cell_type": "markdown",
   "metadata": {},
   "source": [
    "#### Dica 2: é necessário alguma manipulação dos dados antes de plotar o gráfico."
   ]
  },
  {
   "cell_type": "code",
   "execution_count": null,
   "metadata": {
    "nbgrader": {
     "grade": true,
     "grade_id": "cell-d2e0568a09d9eb4a",
     "locked": false,
     "points": 1,
     "schema_version": 3,
     "solution": true,
     "task": false
    }
   },
   "outputs": [],
   "source": [
    "# Plote seu gráfico aqui\n",
    "path_gini='https://raw.githubusercontent.com/alexlopespereira/curso_ciencia_dados2021/master/data/originais/gini/ginibr.csv'\n",
    "\n"
   ]
  },
  {
   "cell_type": "markdown",
   "metadata": {},
   "source": [
    "### 6.2 Plote um gráfico que mostre a evolução ao longo do tempo dos dados de curetagem do Estado de São Paulo.\n",
    "#### Rotacione os labels do eixo x em 90 graus e diminua a frequência de aparição desses labels para você conseguir visualizar as datas.\n",
    "#### Dica: \n",
    "```python\n",
    "import matplotlib.ticker as ticker\n",
    "g = sns.relplot(...) # Coloque seus argumentos aqui.\n",
    "g.set_xticklabels(rotation=90)\n",
    "g.axes.flat[0].xaxis.set_major_locator(ticker.MultipleLocator(3))\n",
    "``` \n",
    "#### Pense em possíveis causas que possam explicar a aparência cíclica do gráfico. Se encontrar alguma explicação plausível, descreva ela logo após o seu gráfico."
   ]
  },
  {
   "cell_type": "code",
   "execution_count": null,
   "metadata": {
    "nbgrader": {
     "grade": true,
     "grade_id": "cell-553qe5248eb14bc30",
     "locked": false,
     "points": 1,
     "schema_version": 3,
     "solution": true,
     "task": false
    },
    "scrolled": true
   },
   "outputs": [],
   "source": [
    "# Plote seu gráfico aqui\n",
    "path_curetagem='https://raw.githubusercontent.com/alexlopespereira/curso_ciencia_dados2021/master/data/originais/curetagem/consolidado/curetagem.csv'\n",
    "import matplotlib.ticker as ticker\n",
    "\n",
    "\n"
   ]
  },
  {
   "cell_type": "markdown",
   "metadata": {},
   "source": [
    "### 6.3 Plote um gráfico boxplot do dataset tips como o da figura a seguir.\n"
   ]
  },
  {
   "attachments": {
    "5.1_boxplot_tips.png": {
     "image/png": "[encoded data removed]"
    }
   },
   "cell_type": "markdown",
   "metadata": {},
   "source": [
    "![5.1_boxplot_tips.png](attachment:5.1_boxplot_tips.png)"
   ]
  },
  {
   "cell_type": "markdown",
   "metadata": {},
   "source": [
    "**Dica: utilize a função `load` do pacote seaborn para carregar o dataframe: `tips = sns.load_dataset(\"tips\")`**"
   ]
  },
  {
   "cell_type": "code",
   "execution_count": null,
   "metadata": {
    "nbgrader": {
     "grade": true,
     "grade_id": "cell-a60691c9ae84528b",
     "locked": false,
     "points": 1,
     "schema_version": 3,
     "solution": true,
     "task": false
    }
   },
   "outputs": [],
   "source": [
    "# Plote seu gráfico aqui \n",
    "tips = sns.load_dataset(\"tips\")\n",
    "\n"
   ]
  },
  {
   "cell_type": "markdown",
   "metadata": {},
   "source": [
    "### 6.4 Escreva uma função para fazer o merge do dataset de morbidade consolidado com o dataset de população\n",
    "#### O dataset da população deve ficar a esquerda e o dataset da morbidade a direita no resultado."
   ]
  },
  {
   "cell_type": "code",
   "execution_count": null,
   "metadata": {
    "nbgrader": {
     "grade": true,
     "grade_id": "cell-553em5248eb14bc30",
     "locked": false,
     "points": 1,
     "schema_version": 3,
     "solution": true,
     "task": false
    }
   },
   "outputs": [],
   "source": [
    "# Dica 1: No dataset de morbidade existem valores NA representados por caracteres específicos em várias colunas \n",
    "#         do dataframe. Descubra quais são esses caracteres e especifiquei no argumento\n",
    "#         na_values. Passe nesse argumento uma lista como os caracteres que devem ser \n",
    "#         interpretados como NA.\n",
    "# Dica 2: No dataset de morbidade, especifique o separador, o caracter de números decimais e o tipo do dado do \n",
    "#         cod_ibge6 como str. Ou seja, dtype={'cod_ibge6': str}.\n",
    "# Dica 3: No dataset de população, converta o cod_munic e cod_uf para str no momento de carregar o dataset de população,\n",
    "#         usando novamente o argumento dtype. Exatamente como foi feito no exercício da aula 3.\n",
    "def merge_morbidade_pop(path_pop, path_morbidade):\n",
    "    \"\"\"retorne o merge dos datasets de população e morbidade.\n",
    "    \"\"\"\n",
    "    raise ValueError # Retire esta linha quando implementar sua solução.\n",
    "    ### END SOLUTION\n"
   ]
  },
  {
   "cell_type": "code",
   "execution_count": null,
   "metadata": {},
   "outputs": [],
   "source": [
    "## Faça seus testes aqui\n",
    "path_morbidade = 'https://github.com/alexlopespereira/curso_ciencia_dados2021/raw/master/data/originais/morbidade/consolidado/morbidade.csv'\n",
    "path_pop = 'https://github.com/alexlopespereira/curso_ciencia_dados2021/raw/master/data/originais/populacao/estimativa_dou_2017.xlsx'\n"
   ]
  },
  {
   "cell_type": "code",
   "execution_count": null,
   "metadata": {},
   "outputs": [],
   "source": [
    "# Validação para nota\n",
    "path_morbidade = 'https://github.com/alexlopespereira/curso_ciencia_dados2021/raw/master/data/originais/morbidade/consolidado/morbidade.csv'\n",
    "path_pop = 'https://github.com/alexlopespereira/curso_ciencia_dados2021/raw/master/data/originais/populacao/estimativa_dou_2017.xlsx'\n",
    "test_data = {'Internações': 149, 'AIH_aprovadas': 149, 'Valor_total': 101282.26}\n",
    "df_morbidade_pop = merge_morbidade_pop(path_pop, path_morbidade)\n",
    "df_00015 = df_morbidade_pop[(df_morbidade_pop['mes']=='Abr') & (df_morbidade_pop['cod_munic']=='00015')]\n",
    "df_00015 = df_00015.loc[:,['Internações', 'AIH_aprovadas', 'Valor_total']]\n",
    "dict2 = df_00015.to_dict(orient='records')[0]\n",
    "dict1 = df_morbidade_pop.iloc[0, 8:11].to_dict()\n",
    "assert dict1 == test_data or dict2 == test_data"
   ]
  },
  {
   "cell_type": "markdown",
   "metadata": {},
   "source": [
    "### 6.5 Faça o merge do dataset de morbidade com o dataset do índice de gini e plote um gráfico do tipo pairplot das seguintes variáveis (colunas): 'Internações',  'Óbitos', '2010' \n",
    "\n"
   ]
  },
  {
   "cell_type": "markdown",
   "metadata": {},
   "source": [
    "#### Dica: não tente plotar um pairplot de todas as variáveis, pois pode demorar bastante."
   ]
  },
  {
   "cell_type": "code",
   "execution_count": null,
   "metadata": {
    "nbgrader": {
     "grade": true,
     "grade_id": "cell-553e524r8eb14bc30",
     "locked": false,
     "points": 1,
     "schema_version": 3,
     "solution": true,
     "task": false
    },
    "scrolled": true
   },
   "outputs": [],
   "source": [
    "# Plote aqui seu gráfico\n",
    "path_morbidade = 'https://github.com/alexlopespereira/curso_ciencia_dados2021/raw/master/data/originais/morbidade/consolidado/morbidade.csv'\n",
    "path_gini = 'https://github.com/alexlopespereira/curso_ciencia_dados2021/raw/master/data/originais/gini/ginibr.csv'\n",
    "\n",
    "\n"
   ]
  },
  {
   "cell_type": "code",
   "execution_count": null,
   "metadata": {},
   "outputs": [],
   "source": []
  }
 ],
 "metadata": {
  "celltoolbar": "Create Assignment",
  "kernelspec": {
   "display_name": "Python 3",
   "language": "python",
   "name": "python3"
  },
  "language_info": {
   "codemirror_mode": {
    "name": "ipython",
    "version": 3
   },
   "file_extension": ".py",
   "mimetype": "text/x-python",
   "name": "python",
   "nbconvert_exporter": "python",
   "pygments_lexer": "ipython3",
   "version": "3.8.3"
  },
  "name": "_merged"
 },
 "nbformat": 4,
 "nbformat_minor": 4
}
